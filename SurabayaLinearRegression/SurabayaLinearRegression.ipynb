{
 "cells": [
  {
   "cell_type": "markdown",
   "id": "80ea7627",
   "metadata": {},
   "source": [
    "# Memprediksi Jumlah Penduduk kota Surabaya dengan menggunakan Linear Regression"
   ]
  },
  {
   "cell_type": "markdown",
   "id": "9d709cef",
   "metadata": {},
   "source": [
    "di notebook ini, kita akan memprediksi jumlah penduduk Kota Surabaya pada tahun 2024 hingga tahun 2027 dengan menggunakan Simple Linear Regression.\n",
    "\n",
    "Kita akan menggunakan data yang berasal dari https://jatim.bps.go.id/indicator/12/375/1/jumlah-penduduk-provinsi-jawa-timur.html"
   ]
  },
  {
   "cell_type": "code",
   "execution_count": 61,
   "id": "0601d178",
   "metadata": {},
   "outputs": [],
   "source": [
    "import pandas as pd\n",
    "import matplotlib.pyplot as plt"
   ]
  },
  {
   "cell_type": "markdown",
   "id": "f86560d5",
   "metadata": {},
   "source": [
    "### Data"
   ]
  },
  {
   "cell_type": "code",
   "execution_count": 62,
   "id": "04bfe6f8",
   "metadata": {},
   "outputs": [],
   "source": [
    "#membaca data dari excel menggunakan pandas\n",
    "df = pd.read_excel('kotasurabaya.xlsx')"
   ]
  },
  {
   "cell_type": "code",
   "execution_count": 84,
   "id": "0f27527c",
   "metadata": {},
   "outputs": [
    {
     "data": {
      "text/html": [
       "<div>\n",
       "<style scoped>\n",
       "    .dataframe tbody tr th:only-of-type {\n",
       "        vertical-align: middle;\n",
       "    }\n",
       "\n",
       "    .dataframe tbody tr th {\n",
       "        vertical-align: top;\n",
       "    }\n",
       "\n",
       "    .dataframe thead th {\n",
       "        text-align: right;\n",
       "    }\n",
       "</style>\n",
       "<table border=\"1\" class=\"dataframe\">\n",
       "  <thead>\n",
       "    <tr style=\"text-align: right;\">\n",
       "      <th></th>\n",
       "      <th>Tahun</th>\n",
       "      <th>Jumlah</th>\n",
       "    </tr>\n",
       "  </thead>\n",
       "  <tbody>\n",
       "    <tr>\n",
       "      <th>count</th>\n",
       "      <td>23.00000</td>\n",
       "      <td>23.000000</td>\n",
       "    </tr>\n",
       "    <tr>\n",
       "      <th>mean</th>\n",
       "      <td>2012.00000</td>\n",
       "      <td>2.785913</td>\n",
       "    </tr>\n",
       "    <tr>\n",
       "      <th>std</th>\n",
       "      <td>6.78233</td>\n",
       "      <td>0.093433</td>\n",
       "    </tr>\n",
       "    <tr>\n",
       "      <th>min</th>\n",
       "      <td>2001.00000</td>\n",
       "      <td>2.616000</td>\n",
       "    </tr>\n",
       "    <tr>\n",
       "      <th>25%</th>\n",
       "      <td>2006.50000</td>\n",
       "      <td>2.709500</td>\n",
       "    </tr>\n",
       "    <tr>\n",
       "      <th>50%</th>\n",
       "      <td>2012.00000</td>\n",
       "      <td>2.805000</td>\n",
       "    </tr>\n",
       "    <tr>\n",
       "      <th>75%</th>\n",
       "      <td>2017.50000</td>\n",
       "      <td>2.874000</td>\n",
       "    </tr>\n",
       "    <tr>\n",
       "      <th>max</th>\n",
       "      <td>2023.00000</td>\n",
       "      <td>2.896000</td>\n",
       "    </tr>\n",
       "  </tbody>\n",
       "</table>\n",
       "</div>"
      ],
      "text/plain": [
       "            Tahun     Jumlah\n",
       "count    23.00000  23.000000\n",
       "mean   2012.00000   2.785913\n",
       "std       6.78233   0.093433\n",
       "min    2001.00000   2.616000\n",
       "25%    2006.50000   2.709500\n",
       "50%    2012.00000   2.805000\n",
       "75%    2017.50000   2.874000\n",
       "max    2023.00000   2.896000"
      ]
     },
     "execution_count": 84,
     "metadata": {},
     "output_type": "execute_result"
    }
   ],
   "source": [
    "df.describe()"
   ]
  },
  {
   "cell_type": "code",
   "execution_count": 85,
   "id": "04045158",
   "metadata": {},
   "outputs": [
    {
     "data": {
      "text/html": [
       "<div>\n",
       "<style scoped>\n",
       "    .dataframe tbody tr th:only-of-type {\n",
       "        vertical-align: middle;\n",
       "    }\n",
       "\n",
       "    .dataframe tbody tr th {\n",
       "        vertical-align: top;\n",
       "    }\n",
       "\n",
       "    .dataframe thead th {\n",
       "        text-align: right;\n",
       "    }\n",
       "</style>\n",
       "<table border=\"1\" class=\"dataframe\">\n",
       "  <thead>\n",
       "    <tr style=\"text-align: right;\">\n",
       "      <th></th>\n",
       "      <th>Tahun</th>\n",
       "      <th>Jumlah</th>\n",
       "    </tr>\n",
       "  </thead>\n",
       "  <tbody>\n",
       "    <tr>\n",
       "      <th>0</th>\n",
       "      <td>2001</td>\n",
       "      <td>2.616</td>\n",
       "    </tr>\n",
       "    <tr>\n",
       "      <th>1</th>\n",
       "      <td>2002</td>\n",
       "      <td>2.633</td>\n",
       "    </tr>\n",
       "    <tr>\n",
       "      <th>2</th>\n",
       "      <td>2003</td>\n",
       "      <td>2.651</td>\n",
       "    </tr>\n",
       "    <tr>\n",
       "      <th>3</th>\n",
       "      <td>2004</td>\n",
       "      <td>2.667</td>\n",
       "    </tr>\n",
       "    <tr>\n",
       "      <th>4</th>\n",
       "      <td>2005</td>\n",
       "      <td>2.684</td>\n",
       "    </tr>\n",
       "    <tr>\n",
       "      <th>5</th>\n",
       "      <td>2006</td>\n",
       "      <td>2.701</td>\n",
       "    </tr>\n",
       "    <tr>\n",
       "      <th>6</th>\n",
       "      <td>2007</td>\n",
       "      <td>2.718</td>\n",
       "    </tr>\n",
       "    <tr>\n",
       "      <th>7</th>\n",
       "      <td>2008</td>\n",
       "      <td>2.736</td>\n",
       "    </tr>\n",
       "    <tr>\n",
       "      <th>8</th>\n",
       "      <td>2009</td>\n",
       "      <td>2.753</td>\n",
       "    </tr>\n",
       "    <tr>\n",
       "      <th>9</th>\n",
       "      <td>2010</td>\n",
       "      <td>2.771</td>\n",
       "    </tr>\n",
       "  </tbody>\n",
       "</table>\n",
       "</div>"
      ],
      "text/plain": [
       "   Tahun  Jumlah\n",
       "0   2001   2.616\n",
       "1   2002   2.633\n",
       "2   2003   2.651\n",
       "3   2004   2.667\n",
       "4   2005   2.684\n",
       "5   2006   2.701\n",
       "6   2007   2.718\n",
       "7   2008   2.736\n",
       "8   2009   2.753\n",
       "9   2010   2.771"
      ]
     },
     "execution_count": 85,
     "metadata": {},
     "output_type": "execute_result"
    }
   ],
   "source": [
    "df.head(10)"
   ]
  },
  {
   "cell_type": "code",
   "execution_count": 86,
   "id": "4691607b",
   "metadata": {},
   "outputs": [
    {
     "name": "stdout",
     "output_type": "stream",
     "text": [
      "<class 'pandas.core.frame.DataFrame'>\n",
      "RangeIndex: 23 entries, 0 to 22\n",
      "Data columns (total 2 columns):\n",
      " #   Column  Non-Null Count  Dtype  \n",
      "---  ------  --------------  -----  \n",
      " 0   Tahun   23 non-null     int64  \n",
      " 1   Jumlah  23 non-null     float64\n",
      "dtypes: float64(1), int64(1)\n",
      "memory usage: 496.0 bytes\n"
     ]
    }
   ],
   "source": [
    "df.info()"
   ]
  },
  {
   "cell_type": "markdown",
   "id": "37c7d600",
   "metadata": {},
   "source": [
    "mari kita membuat scatter untuk melihat data penduduk Kota Surabaya"
   ]
  },
  {
   "cell_type": "code",
   "execution_count": 88,
   "id": "f1e03124",
   "metadata": {},
   "outputs": [
    {
     "data": {
      "text/plain": [
       "Text(0, 0.5, 'Jumlah')"
      ]
     },
     "execution_count": 88,
     "metadata": {},
     "output_type": "execute_result"
    },
    {
     "data": {
      "image/png": "[encoded data removed]",
      "text/plain": [
       "<Figure size 432x288 with 1 Axes>"
      ]
     },
     "metadata": {
      "needs_background": "light"
     },
     "output_type": "display_data"
    }
   ],
   "source": [
    "plt.scatter(df['Tahun'],df['Jumlah'])\n",
    "plt.xlabel(\"Tahun\")\n",
    "plt.ylabel(\"Jumlah\")"
   ]
  },
  {
   "cell_type": "markdown",
   "id": "d622e821",
   "metadata": {},
   "source": [
    "Tampaknya pada tahun 2019 terdapat penurunan yang cukup tajam dibandingkan pertumbuhan penduduk pada tahun 2001 hingga 2018 mengalami kenaikan jumlah penduduk yang cukup stabil."
   ]
  },
  {
   "cell_type": "markdown",
   "id": "28f4e063",
   "metadata": {},
   "source": [
    "### Independent Dependent Variable"
   ]
  },
  {
   "cell_type": "code",
   "execution_count": 63,
   "id": "01eb8203",
   "metadata": {},
   "outputs": [],
   "source": [
    "x = df.iloc[:,[0]].values\n",
    "y = df.iloc[:,[1]].values"
   ]
  },
  {
   "cell_type": "markdown",
   "id": "6cf612a8",
   "metadata": {},
   "source": [
    "### Split Test Train"
   ]
  },
  {
   "cell_type": "code",
   "execution_count": 64,
   "id": "0ea4409b",
   "metadata": {},
   "outputs": [],
   "source": [
    "from sklearn.model_selection import train_test_split\n",
    "x_train, x_test, y_train, y_test = train_test_split(x, y, test_size= 0.25, random_state=0)"
   ]
  },
  {
   "cell_type": "markdown",
   "id": "1c01b066",
   "metadata": {},
   "source": [
    "### Training Regressi - Prediksi"
   ]
  },
  {
   "cell_type": "code",
   "execution_count": 89,
   "id": "c3e7e1d3",
   "metadata": {},
   "outputs": [],
   "source": [
    "#mengimpor modul Linear Regression\n",
    "from sklearn.linear_model import LinearRegression"
   ]
  },
  {
   "cell_type": "code",
   "execution_count": 66,
   "id": "6fffc037",
   "metadata": {},
   "outputs": [],
   "source": [
    "regresi = LinearRegression()"
   ]
  },
  {
   "cell_type": "code",
   "execution_count": 67,
   "id": "e5aa5b0c",
   "metadata": {},
   "outputs": [
    {
     "data": {
      "text/plain": [
       "LinearRegression()"
      ]
     },
     "execution_count": 67,
     "metadata": {},
     "output_type": "execute_result"
    }
   ],
   "source": [
    "regresi.fit(x_train,y_train)"
   ]
  },
  {
   "cell_type": "code",
   "execution_count": null,
   "id": "ea86cf80",
   "metadata": {},
   "outputs": [],
   "source": [
    "### Testing Prediksi "
   ]
  },
  {
   "cell_type": "code",
   "execution_count": 68,
   "id": "c444188a",
   "metadata": {},
   "outputs": [],
   "source": [
    "y_predict= regresi.predict(x_test)"
   ]
  },
  {
   "cell_type": "code",
   "execution_count": 69,
   "id": "d9dd9912",
   "metadata": {},
   "outputs": [
    {
     "data": {
      "text/plain": [
       "array([[2.78756238],\n",
       "       [2.77360234],\n",
       "       [2.92716274],\n",
       "       [2.82944249],\n",
       "       [2.9132027 ],\n",
       "       [2.64796201]])"
      ]
     },
     "execution_count": 69,
     "metadata": {},
     "output_type": "execute_result"
    }
   ],
   "source": [
    "y_predict"
   ]
  },
  {
   "cell_type": "markdown",
   "id": "7907f73b",
   "metadata": {},
   "source": [
    "### Evaluasi Model"
   ]
  },
  {
   "cell_type": "code",
   "execution_count": 70,
   "id": "f5b8ab2d",
   "metadata": {},
   "outputs": [],
   "source": [
    "from sklearn.metrics import mean_absolute_error, r2_score"
   ]
  },
  {
   "cell_type": "code",
   "execution_count": 71,
   "id": "ad70e1a8",
   "metadata": {},
   "outputs": [
    {
     "name": "stdout",
     "output_type": "stream",
     "text": [
      "MAE:  0.023120042298396298\n",
      "R2:  0.913847904311859\n"
     ]
    }
   ],
   "source": [
    "print(\"MAE: \",mean_absolute_error(y_test,y_predict))\n",
    "print(\"R2: \",r2_score(y_test,y_predict))"
   ]
  },
  {
   "cell_type": "markdown",
   "id": "7032da7c",
   "metadata": {},
   "source": [
    "## Prediksi Data Baru"
   ]
  },
  {
   "cell_type": "code",
   "execution_count": 72,
   "id": "4983ae1d",
   "metadata": {},
   "outputs": [],
   "source": [
    "df_new = pd.read_excel('datatestprediksi.xlsx')"
   ]
  },
  {
   "cell_type": "code",
   "execution_count": 90,
   "id": "48405df4",
   "metadata": {},
   "outputs": [
    {
     "data": {
      "text/html": [
       "<div>\n",
       "<style scoped>\n",
       "    .dataframe tbody tr th:only-of-type {\n",
       "        vertical-align: middle;\n",
       "    }\n",
       "\n",
       "    .dataframe tbody tr th {\n",
       "        vertical-align: top;\n",
       "    }\n",
       "\n",
       "    .dataframe thead th {\n",
       "        text-align: right;\n",
       "    }\n",
       "</style>\n",
       "<table border=\"1\" class=\"dataframe\">\n",
       "  <thead>\n",
       "    <tr style=\"text-align: right;\">\n",
       "      <th></th>\n",
       "      <th>tahun</th>\n",
       "    </tr>\n",
       "  </thead>\n",
       "  <tbody>\n",
       "    <tr>\n",
       "      <th>0</th>\n",
       "      <td>2024</td>\n",
       "    </tr>\n",
       "    <tr>\n",
       "      <th>1</th>\n",
       "      <td>2025</td>\n",
       "    </tr>\n",
       "    <tr>\n",
       "      <th>2</th>\n",
       "      <td>2026</td>\n",
       "    </tr>\n",
       "    <tr>\n",
       "      <th>3</th>\n",
       "      <td>2027</td>\n",
       "    </tr>\n",
       "  </tbody>\n",
       "</table>\n",
       "</div>"
      ],
      "text/plain": [
       "   tahun\n",
       "0   2024\n",
       "1   2025\n",
       "2   2026\n",
       "3   2027"
      ]
     },
     "execution_count": 90,
     "metadata": {},
     "output_type": "execute_result"
    }
   ],
   "source": [
    "df_new"
   ]
  },
  {
   "cell_type": "markdown",
   "id": "ebeea2c2",
   "metadata": {},
   "source": [
    "seperti yang terlihat diatas, df_new berisi data tahun yang akan di prediksi."
   ]
  },
  {
   "cell_type": "code",
   "execution_count": 73,
   "id": "74b0af96",
   "metadata": {},
   "outputs": [
    {
     "name": "stderr",
     "output_type": "stream",
     "text": [
      "C:\\Users\\farha\\anaconda3\\lib\\site-packages\\sklearn\\base.py:443: UserWarning: X has feature names, but LinearRegression was fitted without feature names\n",
      "  warnings.warn(\n"
     ]
    },
    {
     "data": {
      "text/plain": [
       "array([[2.95508281],\n",
       "       [2.96904285],\n",
       "       [2.98300288],\n",
       "       [2.99696292]])"
      ]
     },
     "execution_count": 73,
     "metadata": {},
     "output_type": "execute_result"
    }
   ],
   "source": [
    "new_predict= regresi.predict(df_new)\n",
    "new_predict"
   ]
  },
  {
   "cell_type": "markdown",
   "id": "03a500f1",
   "metadata": {},
   "source": [
    "### Visualiasi data hasil prediksi\n"
   ]
  },
  {
   "cell_type": "code",
   "execution_count": 93,
   "id": "95976ec4",
   "metadata": {},
   "outputs": [
    {
     "data": {
      "image/png": "[encoded data removed]",
      "text/plain": [
       "<Figure size 864x432 with 1 Axes>"
      ]
     },
     "metadata": {
      "needs_background": "light"
     },
     "output_type": "display_data"
    }
   ],
   "source": [
    "plt.figure(figsize=(12,6))\n",
    "plt.title('visualisasi data hasil prediksi dari data training')\n",
    "#data training (obervasi) warna biru\n",
    "plt.scatter(x_train,y_train,c='blue')\n",
    "#garis data hasil prediksi dari data prediksi\n",
    "plt.plot(x_train,regresi.predict(x_train),c='red')\n",
    "\n",
    "plt.xlabel(\"Tahun\")\n",
    "plt.ylabel(\"Jumlah\")\n",
    "plt.grid()"
   ]
  },
  {
   "cell_type": "code",
   "execution_count": 94,
   "id": "89ff63a7",
   "metadata": {},
   "outputs": [
    {
     "data": {
      "image/png": "[encoded data removed]",
      "text/plain": [
       "<Figure size 864x432 with 1 Axes>"
      ]
     },
     "metadata": {
      "needs_background": "light"
     },
     "output_type": "display_data"
    }
   ],
   "source": [
    "plt.figure(figsize=(12,6))\n",
    "plt.title('visualisasi data hasil prediksi dari data test')\n",
    "#data training (obervasi) warna biru\n",
    "plt.scatter(x_test,y_test,c='green')\n",
    "#garis data hasil prediksi dari data test\n",
    "plt.plot(x_test,y_predict,c='yellow')\n",
    "\n",
    "plt.scatter(df_new,new_predict, c='black')\n",
    "plt.xlabel(\"Tahun\")\n",
    "plt.ylabel(\"Jumlah\")\n",
    "plt.grid()"
   ]
  },
  {
   "cell_type": "markdown",
   "id": "7f740b59",
   "metadata": {},
   "source": [
    "titik hitam diatas adalah hasil prediksi jumlah penduduk Kota Surabaya berdasarkan data test"
   ]
  }
 ],
 "metadata": {
  "kernelspec": {
   "display_name": "Python 3 (ipykernel)",
   "language": "python",
   "name": "python3"
  },
  "language_info": {
   "codemirror_mode": {
    "name": "ipython",
    "version": 3
   },
   "file_extension": ".py",
   "mimetype": "text/x-python",
   "name": "python",
   "nbconvert_exporter": "python",
   "pygments_lexer": "ipython3",
   "version": "3.9.12"
  }
 },
 "nbformat": 4,
 "nbformat_minor": 5
}
