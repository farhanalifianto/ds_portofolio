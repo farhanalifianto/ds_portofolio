{
 "cells": [
  {
   "cell_type": "markdown",
   "id": "fdf1f131",
   "metadata": {},
   "source": [
    "# Memprediksi Harga Mobil Bekas degan menggunakan K-Nearest Neighbors (KNN) \n",
    "Di notebook ini kita akan memprediksi harga mobil merek BMW di Inggris menggunakan algoritma K-Nearest Neighbors atau KKN\n",
    "\n",
    "* Program ini menyajikan sebuah machine learning yang digunakan untuk prediksi harga mobil merk BMW yang berada di Inggris\n",
    "* Machine learning ini dibuat menggunakan algoritma K-Nearest Neighbors(KNN)\n",
    "* Dataset ini diambil dari website Kaggle"
   ]
  },
  {
   "cell_type": "markdown",
   "id": "34946953",
   "metadata": {},
   "source": [
    "## Data"
   ]
  },
  {
   "cell_type": "code",
   "execution_count": 93,
   "id": "72ba9766",
   "metadata": {},
   "outputs": [],
   "source": [
    "import pandas as pd\n",
    "import numpy as np\n",
    "import matplotlib.pyplot as plt\n",
    "import sklearn.metrics as metrics"
   ]
  },
  {
   "cell_type": "code",
   "execution_count": 94,
   "id": "924de3b9",
   "metadata": {},
   "outputs": [],
   "source": [
    "data = pd.read_csv('bmw.csv')"
   ]
  },
  {
   "cell_type": "markdown",
   "id": "d830768b",
   "metadata": {},
   "source": [
    "Mari kita lihat data tentang Audi ini"
   ]
  },
  {
   "cell_type": "code",
   "execution_count": 95,
   "id": "23949910",
   "metadata": {},
   "outputs": [
    {
     "data": {
      "text/plain": [
       "<bound method NDFrame.describe of            model  year  price transmission  mileage fuelType  tax   mpg  \\\n",
       "0       5 Series  2014  11200    Automatic    67068   Diesel  125  57.6   \n",
       "1       6 Series  2018  27000    Automatic    14827   Petrol  145  42.8   \n",
       "2       5 Series  2016  16000    Automatic    62794   Diesel  160  51.4   \n",
       "3       1 Series  2017  12750    Automatic    26676   Diesel  145  72.4   \n",
       "4       7 Series  2014  14500    Automatic    39554   Diesel  160  50.4   \n",
       "...          ...   ...    ...          ...      ...      ...  ...   ...   \n",
       "10776         X3  2016  19000    Automatic    40818   Diesel  150  54.3   \n",
       "10777   5 Series  2016  14600    Automatic    42947   Diesel  125  60.1   \n",
       "10778   3 Series  2017  13100       Manual    25468   Petrol  200  42.8   \n",
       "10779   1 Series  2014   9930    Automatic    45000   Diesel   30  64.2   \n",
       "10780         X1  2017  15981    Automatic    59432   Diesel  125  57.6   \n",
       "\n",
       "       engineSize  \n",
       "0             2.0  \n",
       "1             2.0  \n",
       "2             3.0  \n",
       "3             1.5  \n",
       "4             3.0  \n",
       "...           ...  \n",
       "10776         2.0  \n",
       "10777         2.0  \n",
       "10778         2.0  \n",
       "10779         2.0  \n",
       "10780         2.0  \n",
       "\n",
       "[10781 rows x 9 columns]>"
      ]
     },
     "execution_count": 95,
     "metadata": {},
     "output_type": "execute_result"
    }
   ],
   "source": [
    "data.describe"
   ]
  },
  {
   "cell_type": "markdown",
   "id": "dc4bc66c",
   "metadata": {},
   "source": [
    "Sebelum kita olah datanya mari kita hilangkan data yang tidak lengkap"
   ]
  },
  {
   "cell_type": "code",
   "execution_count": 96,
   "id": "a4cd8177",
   "metadata": {},
   "outputs": [
    {
     "data": {
      "text/html": [
       "<div>\n",
       "<style scoped>\n",
       "    .dataframe tbody tr th:only-of-type {\n",
       "        vertical-align: middle;\n",
       "    }\n",
       "\n",
       "    .dataframe tbody tr th {\n",
       "        vertical-align: top;\n",
       "    }\n",
       "\n",
       "    .dataframe thead th {\n",
       "        text-align: right;\n",
       "    }\n",
       "</style>\n",
       "<table border=\"1\" class=\"dataframe\">\n",
       "  <thead>\n",
       "    <tr style=\"text-align: right;\">\n",
       "      <th></th>\n",
       "      <th>year</th>\n",
       "      <th>price</th>\n",
       "      <th>mileage</th>\n",
       "      <th>tax</th>\n",
       "      <th>mpg</th>\n",
       "      <th>engineSize</th>\n",
       "    </tr>\n",
       "  </thead>\n",
       "  <tbody>\n",
       "    <tr>\n",
       "      <th>count</th>\n",
       "      <td>10781.000000</td>\n",
       "      <td>10781.000000</td>\n",
       "      <td>10781.000000</td>\n",
       "      <td>10781.000000</td>\n",
       "      <td>10781.000000</td>\n",
       "      <td>10781.000000</td>\n",
       "    </tr>\n",
       "    <tr>\n",
       "      <th>mean</th>\n",
       "      <td>2017.078935</td>\n",
       "      <td>22733.408867</td>\n",
       "      <td>25496.986550</td>\n",
       "      <td>131.702068</td>\n",
       "      <td>56.399035</td>\n",
       "      <td>2.167767</td>\n",
       "    </tr>\n",
       "    <tr>\n",
       "      <th>std</th>\n",
       "      <td>2.349038</td>\n",
       "      <td>11415.528189</td>\n",
       "      <td>25143.192559</td>\n",
       "      <td>61.510755</td>\n",
       "      <td>31.336958</td>\n",
       "      <td>0.552054</td>\n",
       "    </tr>\n",
       "    <tr>\n",
       "      <th>min</th>\n",
       "      <td>1996.000000</td>\n",
       "      <td>1200.000000</td>\n",
       "      <td>1.000000</td>\n",
       "      <td>0.000000</td>\n",
       "      <td>5.500000</td>\n",
       "      <td>0.000000</td>\n",
       "    </tr>\n",
       "    <tr>\n",
       "      <th>25%</th>\n",
       "      <td>2016.000000</td>\n",
       "      <td>14950.000000</td>\n",
       "      <td>5529.000000</td>\n",
       "      <td>135.000000</td>\n",
       "      <td>45.600000</td>\n",
       "      <td>2.000000</td>\n",
       "    </tr>\n",
       "    <tr>\n",
       "      <th>50%</th>\n",
       "      <td>2017.000000</td>\n",
       "      <td>20462.000000</td>\n",
       "      <td>18347.000000</td>\n",
       "      <td>145.000000</td>\n",
       "      <td>53.300000</td>\n",
       "      <td>2.000000</td>\n",
       "    </tr>\n",
       "    <tr>\n",
       "      <th>75%</th>\n",
       "      <td>2019.000000</td>\n",
       "      <td>27940.000000</td>\n",
       "      <td>38206.000000</td>\n",
       "      <td>145.000000</td>\n",
       "      <td>62.800000</td>\n",
       "      <td>2.000000</td>\n",
       "    </tr>\n",
       "    <tr>\n",
       "      <th>max</th>\n",
       "      <td>2020.000000</td>\n",
       "      <td>123456.000000</td>\n",
       "      <td>214000.000000</td>\n",
       "      <td>580.000000</td>\n",
       "      <td>470.800000</td>\n",
       "      <td>6.600000</td>\n",
       "    </tr>\n",
       "  </tbody>\n",
       "</table>\n",
       "</div>"
      ],
      "text/plain": [
       "               year          price        mileage           tax           mpg  \\\n",
       "count  10781.000000   10781.000000   10781.000000  10781.000000  10781.000000   \n",
       "mean    2017.078935   22733.408867   25496.986550    131.702068     56.399035   \n",
       "std        2.349038   11415.528189   25143.192559     61.510755     31.336958   \n",
       "min     1996.000000    1200.000000       1.000000      0.000000      5.500000   \n",
       "25%     2016.000000   14950.000000    5529.000000    135.000000     45.600000   \n",
       "50%     2017.000000   20462.000000   18347.000000    145.000000     53.300000   \n",
       "75%     2019.000000   27940.000000   38206.000000    145.000000     62.800000   \n",
       "max     2020.000000  123456.000000  214000.000000    580.000000    470.800000   \n",
       "\n",
       "         engineSize  \n",
       "count  10781.000000  \n",
       "mean       2.167767  \n",
       "std        0.552054  \n",
       "min        0.000000  \n",
       "25%        2.000000  \n",
       "50%        2.000000  \n",
       "75%        2.000000  \n",
       "max        6.600000  "
      ]
     },
     "execution_count": 96,
     "metadata": {},
     "output_type": "execute_result"
    }
   ],
   "source": [
    "data = data.dropna(axis=0)\n",
    "data.describe()"
   ]
  },
  {
   "cell_type": "markdown",
   "id": "26483b54",
   "metadata": {},
   "source": [
    "selanjutnya kita memeriksa tipe data mana saja yang bernilai interger dan float untuk diolah selanjutnya"
   ]
  },
  {
   "cell_type": "code",
   "execution_count": 97,
   "id": "d438f9f3",
   "metadata": {},
   "outputs": [
    {
     "name": "stdout",
     "output_type": "stream",
     "text": [
      "model            object\n",
      "year              int64\n",
      "price             int64\n",
      "transmission     object\n",
      "mileage           int64\n",
      "fuelType         object\n",
      "tax               int64\n",
      "mpg             float64\n",
      "engineSize      float64\n",
      "dtype: object\n"
     ]
    }
   ],
   "source": [
    "print (data.dtypes)"
   ]
  },
  {
   "cell_type": "markdown",
   "id": "711d6595",
   "metadata": {},
   "source": [
    "Mendefinisikan input, output data yang menggunakan tipe data interger dan float"
   ]
  },
  {
   "cell_type": "code",
   "execution_count": 98,
   "id": "c1a22a8d",
   "metadata": {},
   "outputs": [
    {
     "data": {
      "text/plain": [
       "((10781, 5), (10781,))"
      ]
     },
     "execution_count": 98,
     "metadata": {},
     "output_type": "execute_result"
    }
   ],
   "source": [
    "features = ['year', 'mileage', 'tax', 'mpg', 'engineSize']\n",
    "x = data[features]\n",
    "y = data['price']\n",
    "x.shape, y.shape"
   ]
  },
  {
   "cell_type": "markdown",
   "id": "bcd39acb",
   "metadata": {},
   "source": [
    "Membagi data set menjadi train set dan test set"
   ]
  },
  {
   "cell_type": "code",
   "execution_count": 99,
   "id": "3b853040",
   "metadata": {},
   "outputs": [],
   "source": [
    "from sklearn.model_selection import train_test_split\n",
    "train_x, test_x, train_y, test_y = train_test_split(x, y, random_state = 70)"
   ]
  },
  {
   "cell_type": "code",
   "execution_count": 100,
   "id": "6510280f",
   "metadata": {},
   "outputs": [
    {
     "data": {
      "text/plain": [
       "(2696,)"
      ]
     },
     "execution_count": 100,
     "metadata": {},
     "output_type": "execute_result"
    }
   ],
   "source": [
    "test_y.shape"
   ]
  },
  {
   "cell_type": "markdown",
   "id": "25b89ea9",
   "metadata": {},
   "source": [
    "## Membangun machine learning model algoritma K-Nearest Neighbors"
   ]
  },
  {
   "cell_type": "code",
   "execution_count": 101,
   "id": "d7a763ab",
   "metadata": {},
   "outputs": [
    {
     "name": "stdout",
     "output_type": "stream",
     "text": [
      " MSE:  69969337.4378566 \n",
      " Accuracy:  0.47823876612664706\n"
     ]
    }
   ],
   "source": [
    "from sklearn.neighbors import KNeighborsRegressor as KNN_Reg\n",
    "from sklearn.metrics import mean_squared_error as mse\n",
    "\n",
    "model = KNN_Reg(n_neighbors = 80)\n",
    "\n",
    "# training the model:\n",
    "model.fit(train_x, train_y)\n",
    "acc1 = model.score(test_x, test_y)\n",
    "\n",
    "# test for prediction\n",
    "test_predict = model.predict(test_x)\n",
    "score = mse(test_predict, test_y)\n",
    "print(' MSE: ', score, '\\n', 'Accuracy: ', acc1)"
   ]
  },
  {
   "cell_type": "markdown",
   "id": "415a23c3",
   "metadata": {},
   "source": [
    "### Mengunakan Elbow Method untuk menentukan nilai K terbaik"
   ]
  },
  {
   "cell_type": "code",
   "execution_count": 102,
   "id": "ba4bbd31",
   "metadata": {},
   "outputs": [],
   "source": [
    "def Elbow(K):\n",
    "  #initiating an empy list\n",
    "  test_mse =[]\n",
    "\n",
    "  #train model for every value of K\n",
    "  for i in K:\n",
    "    model = KNN_Reg(n_neighbors=i)\n",
    "    model.fit(train_x, train_y)\n",
    "    tmp = model.predict(test_x)\n",
    "    tmp = mse(tmp, test_y)\n",
    "    test_mse.append(tmp)\n",
    "  \n",
    "  return test_mse"
   ]
  },
  {
   "cell_type": "markdown",
   "id": "e20afbd8",
   "metadata": {},
   "source": [
    "## Menampilkan grafik nilai K berdasarkan MSE"
   ]
  },
  {
   "cell_type": "code",
   "execution_count": 103,
   "id": "540e22d6",
   "metadata": {},
   "outputs": [
    {
     "data": {
      "text/plain": [
       "Text(0.5, 1.0, 'Elbow Curve for Test')"
      ]
     },
     "execution_count": 103,
     "metadata": {},
     "output_type": "execute_result"
    },
    {
     "data": {
      "image/png": "[encoded data removed]",
      "text/plain": [
       "<Figure size 432x288 with 1 Axes>"
      ]
     },
     "metadata": {
      "needs_background": "light"
     },
     "output_type": "display_data"
    }
   ],
   "source": [
    "K = range(80, 100)\n",
    "test = Elbow(K)\n",
    "#plotting\n",
    "plt.plot(K,test)\n",
    "plt.xlabel('K Neighbors')\n",
    "plt.ylabel('Mean Squared Error (MSE)')\n",
    "plt.title('Elbow Curve for Test')"
   ]
  },
  {
   "cell_type": "markdown",
   "id": "d3c4470c",
   "metadata": {},
   "source": [
    "## Melakukan koreksi nilai dengan menggunakan nilai K terbaik berdasarkan hasil dari metode Elbow"
   ]
  },
  {
   "cell_type": "markdown",
   "id": "749f8802",
   "metadata": {},
   "source": [
    "###### Nilai terbaik adalah nilai K yang menghasilkan MSE minimum, dalam kasus ini K = 86"
   ]
  },
  {
   "cell_type": "code",
   "execution_count": 104,
   "id": "bded3c72",
   "metadata": {},
   "outputs": [
    {
     "name": "stdout",
     "output_type": "stream",
     "text": [
      " Accuracy of new model (%): 47.90370442396929 \n",
      " Accuracy of old model (%): 47.823876612664705 \n",
      " Improvement (%): 0.07982781130457806\n"
     ]
    }
   ],
   "source": [
    "new_model = KNN_Reg(n_neighbors=86)\n",
    "\n",
    "# Train model\n",
    "new_model.fit(train_x, train_y)\n",
    "acc2 = new_model.score(test_x, test_y)\n",
    "\n",
    "# Prediction test\n",
    "print(' Accuracy of new model (%):', acc2*100, '\\n', 'Accuracy of old model (%):', acc1*100, '\\n Improvement (%):', (acc2-acc1)*100)"
   ]
  },
  {
   "cell_type": "markdown",
   "id": "6135a921",
   "metadata": {},
   "source": [
    "## Mencoba penggunaan machine learning yang  kita telah dibuat"
   ]
  },
  {
   "cell_type": "markdown",
   "id": "1fa22919",
   "metadata": {},
   "source": [
    "kita akan memprediksi dengan memasukkan data yang dimiliki berupa:\n",
    "1. Tahun dibuatnya mobil -- year\n",
    "2. jarak tempuh dalam satuan --mileage\n",
    "3. pajak kendaraan yang berlaku --tax\n",
    "4. kebutuhan rata-rata dalam satuan mpg --mpg\n",
    "5. besarnnnya ukuran mesin --engineSize\n",
    "\n",
    "kita akan memakai konversi mata uang dimana UKP 1  = IDR 18203, data diambil pada 23 juni 2022"
   ]
  },
  {
   "cell_type": "markdown",
   "id": "84f8baaa",
   "metadata": {},
   "source": [
    "### Disini kita akan mencoba dengan memasukkan data mobil sebagai berikut\n",
    "data mobil =\n",
    "* year = 2016\n",
    "* mileage = 30000\n",
    "* tax = 150\n",
    "* mpg = 30.2\n",
    "* engineSize = 2"
   ]
  },
  {
   "cell_type": "code",
   "execution_count": 105,
   "id": "ebf4811f",
   "metadata": {},
   "outputs": [
    {
     "name": "stdout",
     "output_type": "stream",
     "text": [
      " Hasil Prediksi harga mobil dengan old model: £ [17809.6875] atau jika dirupiahkan yaitu: Rp [324.18974156] Juta\n",
      " Hasil Prediksi harga mobil dengan new model: £ [17655.20930233] atau jika dirupiahkan yaitu: Rp [321.37777493] Juta\n"
     ]
    },
    {
     "name": "stderr",
     "output_type": "stream",
     "text": [
      "C:\\Users\\farha\\anaconda3\\lib\\site-packages\\sklearn\\base.py:450: UserWarning: X does not have valid feature names, but KNeighborsRegressor was fitted with feature names\n",
      "  warnings.warn(\n",
      "C:\\Users\\farha\\anaconda3\\lib\\site-packages\\sklearn\\base.py:450: UserWarning: X does not have valid feature names, but KNeighborsRegressor was fitted with feature names\n",
      "  warnings.warn(\n"
     ]
    }
   ],
   "source": [
    "data_mobil_bekas = np.array([[2016,30000,150,30.2,2]])\n",
    "prediction_old = model.predict(data_mobil_bekas)\n",
    "prediction_new = new_model.predict(data_mobil_bekas)\n",
    "print(' Hasil Prediksi harga mobil dengan old model: £', prediction_old, 'atau jika dirupiahkan yaitu: Rp', prediction_old * 18203*1e-6, 'Juta\\n',\n",
    "      'Hasil Prediksi harga mobil dengan new model: £', prediction_new, 'atau jika dirupiahkan yaitu: Rp', prediction_new * 18203*1e-6, 'Juta')"
   ]
  }
 ],
 "metadata": {
  "kernelspec": {
   "display_name": "Python 3 (ipykernel)",
   "language": "python",
   "name": "python3"
  },
  "language_info": {
   "codemirror_mode": {
    "name": "ipython",
    "version": 3
   },
   "file_extension": ".py",
   "mimetype": "text/x-python",
   "name": "python",
   "nbconvert_exporter": "python",
   "pygments_lexer": "ipython3",
   "version": "3.9.12"
  }
 },
 "nbformat": 4,
 "nbformat_minor": 5
}
